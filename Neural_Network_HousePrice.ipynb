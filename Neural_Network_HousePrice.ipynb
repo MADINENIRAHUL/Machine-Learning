{
 "cells": [
  {
   "cell_type": "code",
   "execution_count": 6,
   "id": "c608b4f6-8fda-4f2b-8c92-ae54844baa63",
   "metadata": {},
   "outputs": [],
   "source": [
    "import numpy as np \n",
    "import pandas as pd \n",
    "\n",
    "import os\n",
    "for dirname, _, filenames in os.walk('/kaggle/input'):\n",
    "    for filename in filenames:\n",
    "        print(os.path.join(dirname, filename))"
   ]
  },
  {
   "cell_type": "code",
   "execution_count": 42,
   "id": "a903bff0-b341-440b-b46d-9fe772c6a4b5",
   "metadata": {},
   "outputs": [],
   "source": [
    "import warnings\n",
    "warnings.filterwarnings(\"ignore\")"
   ]
  },
  {
   "cell_type": "code",
   "execution_count": 10,
   "id": "56105c60-2e60-414b-aa7f-584e966b909b",
   "metadata": {},
   "outputs": [],
   "source": [
    "import matplotlib.pyplot as plt \n",
    "%matplotlib inline"
   ]
  },
  {
   "cell_type": "code",
   "execution_count": 14,
   "id": "64b52ef5-28fe-4132-8b30-0b1052853991",
   "metadata": {},
   "outputs": [],
   "source": [
    "data = pd.read_csv(\"C:/Users/rahul/OneDrive/Desktop/Internship/House_Price_train.csv\")"
   ]
  },
  {
   "cell_type": "code",
   "execution_count": 16,
   "id": "aee9acee-3a24-45d8-a339-d9b2e16dd81e",
   "metadata": {},
   "outputs": [],
   "source": [
    "nc = data.select_dtypes(include = [np.number]) #Numerical data asigned as numerical column as nc"
   ]
  },
  {
   "cell_type": "code",
   "execution_count": 18,
   "id": "a5444725-b2ae-4f38-b627-7acb435fe495",
   "metadata": {},
   "outputs": [],
   "source": [
    "cc = data.select_dtypes(include = [\"object\"]) #Categorical data or Categorical column as cc"
   ]
  },
  {
   "cell_type": "code",
   "execution_count": 22,
   "id": "0e824de7-5aea-4adf-881c-86780850e1a6",
   "metadata": {},
   "outputs": [],
   "source": [
    "nc_cols = nc.columns"
   ]
  },
  {
   "cell_type": "code",
   "execution_count": 24,
   "id": "223ba98f-9672-4c04-95f7-b998f9a008f4",
   "metadata": {},
   "outputs": [],
   "source": [
    "cc_cols = cc.columns"
   ]
  },
  {
   "cell_type": "code",
   "execution_count": 26,
   "id": "5837f001-19b1-45b0-ab3a-214f20e1182a",
   "metadata": {},
   "outputs": [],
   "source": [
    "nc_corr = nc.corr()"
   ]
  },
  {
   "cell_type": "code",
   "execution_count": 30,
   "id": "7ba44b10-3f23-496e-bae3-e43d61bb6158",
   "metadata": {},
   "outputs": [],
   "source": [
    "nc_cols0 = []\n",
    "nc_cols0.extend(nc_corr[(nc_corr[\"SalePrice\"]>0.3) ].index.values)\n",
    "nc_cols0.extend(nc_corr[(nc_corr[\"SalePrice\"]<-0.3) ].index.values)"
   ]
  },
  {
   "cell_type": "code",
   "execution_count": 32,
   "id": "bc61a9d1-bdae-4a81-90ba-64af195807ed",
   "metadata": {},
   "outputs": [],
   "source": [
    "nc_filtered = nc[nc_cols0]"
   ]
  },
  {
   "cell_type": "code",
   "execution_count": 34,
   "id": "733d2419-1c74-4d4f-be23-d73fc2540e2c",
   "metadata": {},
   "outputs": [
    {
     "data": {
      "text/plain": [
       "LotFrontage     259\n",
       "GarageYrBlt      81\n",
       "MasVnrArea        8\n",
       "FullBath          0\n",
       "OpenPorchSF       0\n",
       "WoodDeckSF        0\n",
       "GarageArea        0\n",
       "GarageCars        0\n",
       "Fireplaces        0\n",
       "TotRmsAbvGrd      0\n",
       "GrLivArea         0\n",
       "OverallQual       0\n",
       "2ndFlrSF          0\n",
       "1stFlrSF          0\n",
       "TotalBsmtSF       0\n",
       "BsmtFinSF1        0\n",
       "YearRemodAdd      0\n",
       "YearBuilt         0\n",
       "SalePrice         0\n",
       "dtype: int64"
      ]
     },
     "execution_count": 34,
     "metadata": {},
     "output_type": "execute_result"
    }
   ],
   "source": [
    "(nc_filtered.isnull().sum().sort_values(ascending = False))"
   ]
  },
  {
   "cell_type": "code",
   "execution_count": 44,
   "id": "40046fdd-ddc6-4a46-9026-70dda0e3aab0",
   "metadata": {},
   "outputs": [],
   "source": [
    "for col in [\"LotFrontage\",\"GarageYrBlt\",\"MasVnrArea\"]:\n",
    "    nc_filtered[col].fillna(nc_filtered[col].median(),inplace=True)"
   ]
  },
  {
   "cell_type": "code",
   "execution_count": 46,
   "id": "c43ac629-afca-45ce-8379-8c3c5ebd36b1",
   "metadata": {},
   "outputs": [
    {
     "data": {
      "text/plain": [
       "PoolQC           1453\n",
       "MiscFeature      1406\n",
       "Alley            1369\n",
       "Fence            1179\n",
       "MasVnrType        872\n",
       "FireplaceQu       690\n",
       "GarageType         81\n",
       "GarageCond         81\n",
       "GarageQual         81\n",
       "GarageFinish       81\n",
       "BsmtFinType2       38\n",
       "BsmtExposure       38\n",
       "BsmtFinType1       37\n",
       "BsmtQual           37\n",
       "BsmtCond           37\n",
       "Electrical          1\n",
       "KitchenQual         0\n",
       "CentralAir          0\n",
       "Functional          0\n",
       "HeatingQC           0\n",
       "Heating             0\n",
       "PavedDrive          0\n",
       "SaleType            0\n",
       "MSZoning            0\n",
       "Street              0\n",
       "Condition2          0\n",
       "LotShape            0\n",
       "LandContour         0\n",
       "Utilities           0\n",
       "LotConfig           0\n",
       "LandSlope           0\n",
       "Neighborhood        0\n",
       "Condition1          0\n",
       "BldgType            0\n",
       "Foundation          0\n",
       "HouseStyle          0\n",
       "RoofStyle           0\n",
       "RoofMatl            0\n",
       "Exterior1st         0\n",
       "Exterior2nd         0\n",
       "ExterQual           0\n",
       "ExterCond           0\n",
       "SaleCondition       0\n",
       "dtype: int64"
      ]
     },
     "execution_count": 46,
     "metadata": {},
     "output_type": "execute_result"
    }
   ],
   "source": [
    "(cc.isnull().sum().sort_values(ascending = False))"
   ]
  },
  {
   "cell_type": "code",
   "execution_count": 48,
   "id": "9b7cc5be-6eb6-4d2e-8195-b7b9c04665c7",
   "metadata": {},
   "outputs": [],
   "source": [
    "for col in [\"PoolQC\",\"MiscFeature\",\"Alley\",\"Fence\",\"FireplaceQu\"]:\n",
    "    cc[col].fillna(\"No Value\",inplace=True)"
   ]
  },
  {
   "cell_type": "code",
   "execution_count": 52,
   "id": "2ccc57a6-3940-40c0-a9f8-61836b04164a",
   "metadata": {},
   "outputs": [],
   "source": [
    "for col in [\"GarageCond\",\"GarageQual\",\"GarageFinish\",\"GarageType\",\"BsmtFinType2\",\"BsmtExposure\",\"BsmtFinType1\",\"BsmtQual\",\"BsmtCond\",\"MasVnrType\",\"Electrical\"]:\n",
    "    cc[col].fillna(cc[col].value_counts().idxmax(),inplace = True)"
   ]
  },
  {
   "cell_type": "code",
   "execution_count": 54,
   "id": "05d07214-fe47-4bc3-8674-5e6d3625f968",
   "metadata": {},
   "outputs": [],
   "source": [
    "df_0 = pd.concat([cc,nc_filtered],axis=1)"
   ]
  },
  {
   "cell_type": "code",
   "execution_count": 56,
   "id": "a2f0bf53-c3f2-4dd2-a19e-5ffb1e5126bd",
   "metadata": {},
   "outputs": [],
   "source": [
    "df_0_num = df_0.select_dtypes(include = [np.number])\n",
    "df_0_cat = df_0.select_dtypes(include = [\"object\"])"
   ]
  },
  {
   "cell_type": "code",
   "execution_count": 58,
   "id": "cc18c9f5-934e-405d-9452-2152d7e46a4e",
   "metadata": {},
   "outputs": [],
   "source": [
    "y = df_0[\"SalePrice\"]\n",
    "X = df_0.drop([\"SalePrice\"],axis=1)"
   ]
  },
  {
   "cell_type": "code",
   "execution_count": 60,
   "id": "b4bacb43-8b21-4668-98e6-631199a4cda8",
   "metadata": {},
   "outputs": [],
   "source": [
    "X1 = pd.get_dummies(X)"
   ]
  },
  {
   "cell_type": "code",
   "execution_count": 62,
   "id": "5e9aa26e-c2a2-4e95-b9bf-2bc1a48245f9",
   "metadata": {},
   "outputs": [],
   "source": [
    "x1_max = sorted(list(X1.max()))[-1]"
   ]
  },
  {
   "cell_type": "code",
   "execution_count": 64,
   "id": "c6301c84-f010-465d-a904-84aabda3f241",
   "metadata": {},
   "outputs": [],
   "source": [
    "y_max=sorted(list(y))[-1]"
   ]
  },
  {
   "cell_type": "code",
   "execution_count": 66,
   "id": "a17cc869-496a-4087-99d1-858af9b0591d",
   "metadata": {},
   "outputs": [
    {
     "data": {
      "text/plain": [
       "(6110, 755000)"
      ]
     },
     "execution_count": 66,
     "metadata": {},
     "output_type": "execute_result"
    }
   ],
   "source": [
    "x1_max,y_max"
   ]
  },
  {
   "cell_type": "code",
   "execution_count": 68,
   "id": "56be08e7-b12b-464f-89bc-3aa39e74ad5a",
   "metadata": {},
   "outputs": [],
   "source": [
    "X1_scale = X1/x1_max"
   ]
  },
  {
   "cell_type": "code",
   "execution_count": 70,
   "id": "c6a0441a-5077-4db4-b37c-0c9e681879d7",
   "metadata": {},
   "outputs": [],
   "source": [
    "y_scale = y/y_max"
   ]
  },
  {
   "cell_type": "code",
   "execution_count": 72,
   "id": "9937a6a2-7758-4dc8-82a0-b6ab2244c174",
   "metadata": {},
   "outputs": [],
   "source": [
    "np.random.seed(0)\n",
    "from sklearn.model_selection import train_test_split\n",
    "X_train, X_test, Y_train, Y_test = train_test_split(X1_scale, y_scale, test_size=0.10, random_state=73)"
   ]
  },
  {
   "cell_type": "code",
   "execution_count": 74,
   "id": "6e942b37-63d5-4642-ba17-21d689340b23",
   "metadata": {},
   "outputs": [],
   "source": [
    "n_features = X_train.shape[1]\n",
    "\n",
    "# Neurons\n",
    "n_neurons_1 = 800\n",
    "n_neurons_2 = 1200\n",
    "n_neurons_3 = 2000\n",
    "n_neurons_4 = 1200\n",
    "n_neurons_5 = 800\n",
    "n_neurons_6 = 400"
   ]
  },
  {
   "cell_type": "code",
   "execution_count": 76,
   "id": "44d2b3f1-32c4-42c3-884b-e80f9b5e5d3a",
   "metadata": {},
   "outputs": [],
   "source": [
    "import tensorflow as tf\n",
    "import numpy as np \n",
    "import pandas as pd \n",
    "\n",
    "import matplotlib.pyplot as plt\n",
    "import random "
   ]
  },
  {
   "cell_type": "code",
   "execution_count": 86,
   "id": "ddeefdbe-4f47-4580-95bc-9a905f36f89d",
   "metadata": {},
   "outputs": [
    {
     "name": "stdout",
     "output_type": "stream",
     "text": [
      "Epoch 1/10\n",
      "\u001b[1m4/4\u001b[0m \u001b[32m━━━━━━━━━━━━━━━━━━━━\u001b[0m\u001b[37m\u001b[0m \u001b[1m2s\u001b[0m 10ms/step - loss: 1.6446\n",
      "Epoch 2/10\n",
      "\u001b[1m4/4\u001b[0m \u001b[32m━━━━━━━━━━━━━━━━━━━━\u001b[0m\u001b[37m\u001b[0m \u001b[1m0s\u001b[0m 5ms/step - loss: 1.2467 \n",
      "Epoch 3/10\n",
      "\u001b[1m4/4\u001b[0m \u001b[32m━━━━━━━━━━━━━━━━━━━━\u001b[0m\u001b[37m\u001b[0m \u001b[1m0s\u001b[0m 5ms/step - loss: 1.0294 \n",
      "Epoch 4/10\n",
      "\u001b[1m4/4\u001b[0m \u001b[32m━━━━━━━━━━━━━━━━━━━━\u001b[0m\u001b[37m\u001b[0m \u001b[1m0s\u001b[0m 5ms/step - loss: 0.8597 \n",
      "Epoch 5/10\n",
      "\u001b[1m4/4\u001b[0m \u001b[32m━━━━━━━━━━━━━━━━━━━━\u001b[0m\u001b[37m\u001b[0m \u001b[1m0s\u001b[0m 5ms/step - loss: 0.7210 \n",
      "Epoch 6/10\n",
      "\u001b[1m4/4\u001b[0m \u001b[32m━━━━━━━━━━━━━━━━━━━━\u001b[0m\u001b[37m\u001b[0m \u001b[1m0s\u001b[0m 5ms/step - loss: 0.6077 \n",
      "Epoch 7/10\n",
      "\u001b[1m4/4\u001b[0m \u001b[32m━━━━━━━━━━━━━━━━━━━━\u001b[0m\u001b[37m\u001b[0m \u001b[1m0s\u001b[0m 5ms/step - loss: 0.5121 \n",
      "Epoch 8/10\n",
      "\u001b[1m4/4\u001b[0m \u001b[32m━━━━━━━━━━━━━━━━━━━━\u001b[0m\u001b[37m\u001b[0m \u001b[1m0s\u001b[0m 5ms/step - loss: 0.4316 \n",
      "Epoch 9/10\n",
      "\u001b[1m4/4\u001b[0m \u001b[32m━━━━━━━━━━━━━━━━━━━━\u001b[0m\u001b[37m\u001b[0m \u001b[1m0s\u001b[0m 5ms/step - loss: 0.3628 \n",
      "Epoch 10/10\n",
      "\u001b[1m4/4\u001b[0m \u001b[32m━━━━━━━━━━━━━━━━━━━━\u001b[0m\u001b[37m\u001b[0m \u001b[1m0s\u001b[0m 5ms/step - loss: 0.3048 \n"
     ]
    },
    {
     "data": {
      "text/plain": [
       "<keras.src.callbacks.history.History at 0x15d1a408920>"
      ]
     },
     "execution_count": 86,
     "metadata": {},
     "output_type": "execute_result"
    }
   ],
   "source": [
    "import tensorflow as tf\n",
    "\n",
    "# Define the dataset (example)\n",
    "features = tf.random.normal([100, n_features])  # Replace with your actual features\n",
    "labels = tf.random.normal([100])  # Replace with your actual labels\n",
    "\n",
    "# Create a TensorFlow dataset\n",
    "dataset = tf.data.Dataset.from_tensor_slices((features, labels))\n",
    "dataset = dataset.batch(32).prefetch(tf.data.experimental.AUTOTUNE)\n",
    "\n",
    "# Define the model (example)\n",
    "model = tf.keras.Sequential([\n",
    "    tf.keras.layers.Dense(10, activation='relu', input_shape=(n_features,)),\n",
    "    tf.keras.layers.Dense(1)\n",
    "])\n",
    "\n",
    "# Compile the model\n",
    "model.compile(optimizer='adam', loss='mse')\n",
    "\n",
    "# Train the model\n",
    "model.fit(dataset, epochs=10)\n",
    "\n",
    "# Your code continues here\n"
   ]
  },
  {
   "cell_type": "code",
   "execution_count": 107,
   "id": "95ab699e-664f-4e89-ae60-1702a03c5ed1",
   "metadata": {},
   "outputs": [
    {
     "name": "stdout",
     "output_type": "stream",
     "text": [
      "Epoch 1/10\n",
      "\u001b[1m4/4\u001b[0m \u001b[32m━━━━━━━━━━━━━━━━━━━━\u001b[0m\u001b[37m\u001b[0m \u001b[1m4s\u001b[0m 16ms/step - loss: 0.1353\n",
      "Epoch 2/10\n",
      "\u001b[1m4/4\u001b[0m \u001b[32m━━━━━━━━━━━━━━━━━━━━\u001b[0m\u001b[37m\u001b[0m \u001b[1m0s\u001b[0m 14ms/step - loss: 0.1277\n",
      "Epoch 3/10\n",
      "\u001b[1m4/4\u001b[0m \u001b[32m━━━━━━━━━━━━━━━━━━━━\u001b[0m\u001b[37m\u001b[0m \u001b[1m0s\u001b[0m 21ms/step - loss: 0.1137\n",
      "Epoch 4/10\n",
      "\u001b[1m4/4\u001b[0m \u001b[32m━━━━━━━━━━━━━━━━━━━━\u001b[0m\u001b[37m\u001b[0m \u001b[1m0s\u001b[0m 14ms/step - loss: 0.0988\n",
      "Epoch 5/10\n",
      "\u001b[1m4/4\u001b[0m \u001b[32m━━━━━━━━━━━━━━━━━━━━\u001b[0m\u001b[37m\u001b[0m \u001b[1m0s\u001b[0m 14ms/step - loss: 0.1027\n",
      "Epoch 6/10\n",
      "\u001b[1m4/4\u001b[0m \u001b[32m━━━━━━━━━━━━━━━━━━━━\u001b[0m\u001b[37m\u001b[0m \u001b[1m0s\u001b[0m 13ms/step - loss: 0.1024\n",
      "Epoch 7/10\n",
      "\u001b[1m4/4\u001b[0m \u001b[32m━━━━━━━━━━━━━━━━━━━━\u001b[0m\u001b[37m\u001b[0m \u001b[1m0s\u001b[0m 12ms/step - loss: 0.0831\n",
      "Epoch 8/10\n",
      "\u001b[1m4/4\u001b[0m \u001b[32m━━━━━━━━━━━━━━━━━━━━\u001b[0m\u001b[37m\u001b[0m \u001b[1m0s\u001b[0m 12ms/step - loss: 0.0735\n",
      "Epoch 9/10\n",
      "\u001b[1m4/4\u001b[0m \u001b[32m━━━━━━━━━━━━━━━━━━━━\u001b[0m\u001b[37m\u001b[0m \u001b[1m0s\u001b[0m 12ms/step - loss: 0.0738\n",
      "Epoch 10/10\n",
      "\u001b[1m4/4\u001b[0m \u001b[32m━━━━━━━━━━━━━━━━━━━━\u001b[0m\u001b[37m\u001b[0m \u001b[1m0s\u001b[0m 13ms/step - loss: 0.0764\n"
     ]
    },
    {
     "data": {
      "text/html": [
       "<pre style=\"white-space:pre;overflow-x:auto;line-height:normal;font-family:Menlo,'DejaVu Sans Mono',consolas,'Courier New',monospace\"><span style=\"font-weight: bold\">Model: \"sequential_7\"</span>\n",
       "</pre>\n"
      ],
      "text/plain": [
       "\u001b[1mModel: \"sequential_7\"\u001b[0m\n"
      ]
     },
     "metadata": {},
     "output_type": "display_data"
    },
    {
     "data": {
      "text/html": [
       "<pre style=\"white-space:pre;overflow-x:auto;line-height:normal;font-family:Menlo,'DejaVu Sans Mono',consolas,'Courier New',monospace\">┏━━━━━━━━━━━━━━━━━━━━━━━━━━━━━━━━━┳━━━━━━━━━━━━━━━━━━━━━━━━┳━━━━━━━━━━━━━━━┓\n",
       "┃<span style=\"font-weight: bold\"> Layer (type)                    </span>┃<span style=\"font-weight: bold\"> Output Shape           </span>┃<span style=\"font-weight: bold\">       Param # </span>┃\n",
       "┡━━━━━━━━━━━━━━━━━━━━━━━━━━━━━━━━━╇━━━━━━━━━━━━━━━━━━━━━━━━╇━━━━━━━━━━━━━━━┩\n",
       "│ dense_44 (<span style=\"color: #0087ff; text-decoration-color: #0087ff\">Dense</span>)                │ (<span style=\"color: #00d7ff; text-decoration-color: #00d7ff\">None</span>, <span style=\"color: #00af00; text-decoration-color: #00af00\">64</span>)             │           <span style=\"color: #00af00; text-decoration-color: #00af00\">704</span> │\n",
       "├─────────────────────────────────┼────────────────────────┼───────────────┤\n",
       "│ dense_45 (<span style=\"color: #0087ff; text-decoration-color: #0087ff\">Dense</span>)                │ (<span style=\"color: #00d7ff; text-decoration-color: #00d7ff\">None</span>, <span style=\"color: #00af00; text-decoration-color: #00af00\">32</span>)             │         <span style=\"color: #00af00; text-decoration-color: #00af00\">2,080</span> │\n",
       "├─────────────────────────────────┼────────────────────────┼───────────────┤\n",
       "│ dense_46 (<span style=\"color: #0087ff; text-decoration-color: #0087ff\">Dense</span>)                │ (<span style=\"color: #00d7ff; text-decoration-color: #00d7ff\">None</span>, <span style=\"color: #00af00; text-decoration-color: #00af00\">16</span>)             │           <span style=\"color: #00af00; text-decoration-color: #00af00\">528</span> │\n",
       "├─────────────────────────────────┼────────────────────────┼───────────────┤\n",
       "│ dense_47 (<span style=\"color: #0087ff; text-decoration-color: #0087ff\">Dense</span>)                │ (<span style=\"color: #00d7ff; text-decoration-color: #00d7ff\">None</span>, <span style=\"color: #00af00; text-decoration-color: #00af00\">8</span>)              │           <span style=\"color: #00af00; text-decoration-color: #00af00\">136</span> │\n",
       "├─────────────────────────────────┼────────────────────────┼───────────────┤\n",
       "│ dense_48 (<span style=\"color: #0087ff; text-decoration-color: #0087ff\">Dense</span>)                │ (<span style=\"color: #00d7ff; text-decoration-color: #00d7ff\">None</span>, <span style=\"color: #00af00; text-decoration-color: #00af00\">4</span>)              │            <span style=\"color: #00af00; text-decoration-color: #00af00\">36</span> │\n",
       "├─────────────────────────────────┼────────────────────────┼───────────────┤\n",
       "│ dense_49 (<span style=\"color: #0087ff; text-decoration-color: #0087ff\">Dense</span>)                │ (<span style=\"color: #00d7ff; text-decoration-color: #00d7ff\">None</span>, <span style=\"color: #00af00; text-decoration-color: #00af00\">2</span>)              │            <span style=\"color: #00af00; text-decoration-color: #00af00\">10</span> │\n",
       "├─────────────────────────────────┼────────────────────────┼───────────────┤\n",
       "│ dense_50 (<span style=\"color: #0087ff; text-decoration-color: #0087ff\">Dense</span>)                │ (<span style=\"color: #00d7ff; text-decoration-color: #00d7ff\">None</span>, <span style=\"color: #00af00; text-decoration-color: #00af00\">1</span>)              │             <span style=\"color: #00af00; text-decoration-color: #00af00\">3</span> │\n",
       "└─────────────────────────────────┴────────────────────────┴───────────────┘\n",
       "</pre>\n"
      ],
      "text/plain": [
       "┏━━━━━━━━━━━━━━━━━━━━━━━━━━━━━━━━━┳━━━━━━━━━━━━━━━━━━━━━━━━┳━━━━━━━━━━━━━━━┓\n",
       "┃\u001b[1m \u001b[0m\u001b[1mLayer (type)                   \u001b[0m\u001b[1m \u001b[0m┃\u001b[1m \u001b[0m\u001b[1mOutput Shape          \u001b[0m\u001b[1m \u001b[0m┃\u001b[1m \u001b[0m\u001b[1m      Param #\u001b[0m\u001b[1m \u001b[0m┃\n",
       "┡━━━━━━━━━━━━━━━━━━━━━━━━━━━━━━━━━╇━━━━━━━━━━━━━━━━━━━━━━━━╇━━━━━━━━━━━━━━━┩\n",
       "│ dense_44 (\u001b[38;5;33mDense\u001b[0m)                │ (\u001b[38;5;45mNone\u001b[0m, \u001b[38;5;34m64\u001b[0m)             │           \u001b[38;5;34m704\u001b[0m │\n",
       "├─────────────────────────────────┼────────────────────────┼───────────────┤\n",
       "│ dense_45 (\u001b[38;5;33mDense\u001b[0m)                │ (\u001b[38;5;45mNone\u001b[0m, \u001b[38;5;34m32\u001b[0m)             │         \u001b[38;5;34m2,080\u001b[0m │\n",
       "├─────────────────────────────────┼────────────────────────┼───────────────┤\n",
       "│ dense_46 (\u001b[38;5;33mDense\u001b[0m)                │ (\u001b[38;5;45mNone\u001b[0m, \u001b[38;5;34m16\u001b[0m)             │           \u001b[38;5;34m528\u001b[0m │\n",
       "├─────────────────────────────────┼────────────────────────┼───────────────┤\n",
       "│ dense_47 (\u001b[38;5;33mDense\u001b[0m)                │ (\u001b[38;5;45mNone\u001b[0m, \u001b[38;5;34m8\u001b[0m)              │           \u001b[38;5;34m136\u001b[0m │\n",
       "├─────────────────────────────────┼────────────────────────┼───────────────┤\n",
       "│ dense_48 (\u001b[38;5;33mDense\u001b[0m)                │ (\u001b[38;5;45mNone\u001b[0m, \u001b[38;5;34m4\u001b[0m)              │            \u001b[38;5;34m36\u001b[0m │\n",
       "├─────────────────────────────────┼────────────────────────┼───────────────┤\n",
       "│ dense_49 (\u001b[38;5;33mDense\u001b[0m)                │ (\u001b[38;5;45mNone\u001b[0m, \u001b[38;5;34m2\u001b[0m)              │            \u001b[38;5;34m10\u001b[0m │\n",
       "├─────────────────────────────────┼────────────────────────┼───────────────┤\n",
       "│ dense_50 (\u001b[38;5;33mDense\u001b[0m)                │ (\u001b[38;5;45mNone\u001b[0m, \u001b[38;5;34m1\u001b[0m)              │             \u001b[38;5;34m3\u001b[0m │\n",
       "└─────────────────────────────────┴────────────────────────┴───────────────┘\n"
      ]
     },
     "metadata": {},
     "output_type": "display_data"
    },
    {
     "data": {
      "text/html": [
       "<pre style=\"white-space:pre;overflow-x:auto;line-height:normal;font-family:Menlo,'DejaVu Sans Mono',consolas,'Courier New',monospace\"><span style=\"font-weight: bold\"> Total params: </span><span style=\"color: #00af00; text-decoration-color: #00af00\">10,493</span> (40.99 KB)\n",
       "</pre>\n"
      ],
      "text/plain": [
       "\u001b[1m Total params: \u001b[0m\u001b[38;5;34m10,493\u001b[0m (40.99 KB)\n"
      ]
     },
     "metadata": {},
     "output_type": "display_data"
    },
    {
     "data": {
      "text/html": [
       "<pre style=\"white-space:pre;overflow-x:auto;line-height:normal;font-family:Menlo,'DejaVu Sans Mono',consolas,'Courier New',monospace\"><span style=\"font-weight: bold\"> Trainable params: </span><span style=\"color: #00af00; text-decoration-color: #00af00\">3,497</span> (13.66 KB)\n",
       "</pre>\n"
      ],
      "text/plain": [
       "\u001b[1m Trainable params: \u001b[0m\u001b[38;5;34m3,497\u001b[0m (13.66 KB)\n"
      ]
     },
     "metadata": {},
     "output_type": "display_data"
    },
    {
     "data": {
      "text/html": [
       "<pre style=\"white-space:pre;overflow-x:auto;line-height:normal;font-family:Menlo,'DejaVu Sans Mono',consolas,'Courier New',monospace\"><span style=\"font-weight: bold\"> Non-trainable params: </span><span style=\"color: #00af00; text-decoration-color: #00af00\">0</span> (0.00 B)\n",
       "</pre>\n"
      ],
      "text/plain": [
       "\u001b[1m Non-trainable params: \u001b[0m\u001b[38;5;34m0\u001b[0m (0.00 B)\n"
      ]
     },
     "metadata": {},
     "output_type": "display_data"
    },
    {
     "data": {
      "text/html": [
       "<pre style=\"white-space:pre;overflow-x:auto;line-height:normal;font-family:Menlo,'DejaVu Sans Mono',consolas,'Courier New',monospace\"><span style=\"font-weight: bold\"> Optimizer params: </span><span style=\"color: #00af00; text-decoration-color: #00af00\">6,996</span> (27.33 KB)\n",
       "</pre>\n"
      ],
      "text/plain": [
       "\u001b[1m Optimizer params: \u001b[0m\u001b[38;5;34m6,996\u001b[0m (27.33 KB)\n"
      ]
     },
     "metadata": {},
     "output_type": "display_data"
    }
   ],
   "source": [
    "import tensorflow as tf\n",
    "\n",
    "# Example values, replace with your actual values\n",
    "n_features = 10\n",
    "n_neurons_1 = 64\n",
    "n_neurons_2 = 32\n",
    "n_neurons_3 = 16\n",
    "n_neurons_4 = 8\n",
    "n_neurons_5 = 4\n",
    "n_neurons_6 = 2\n",
    "\n",
    "# Define the model\n",
    "model = tf.keras.Sequential([\n",
    "    tf.keras.layers.Dense(n_neurons_1, activation='relu', kernel_initializer='he_uniform', input_shape=(n_features,)),\n",
    "    tf.keras.layers.Dense(n_neurons_2, activation='relu', kernel_initializer='he_uniform'),\n",
    "    tf.keras.layers.Dense(n_neurons_3, activation='relu', kernel_initializer='he_uniform'),\n",
    "    tf.keras.layers.Dense(n_neurons_4, activation='relu', kernel_initializer='he_uniform'),\n",
    "    tf.keras.layers.Dense(n_neurons_5, activation='relu', kernel_initializer='he_uniform'),\n",
    "    tf.keras.layers.Dense(n_neurons_6, activation='relu', kernel_initializer='he_uniform'),\n",
    "    tf.keras.layers.Dense(1)\n",
    "])\n",
    "\n",
    "# Compile the model\n",
    "model.compile(optimizer='adam', loss='mse')\n",
    "\n",
    "\n",
    "\n",
    "# Example data, replace with your actual data\n",
    "import numpy as np\n",
    "X_train = np.random.rand(100, n_features)  # 100 samples, 10 features each\n",
    "Y_train = np.random.rand(100)  # 100 target values\n",
    "\n",
    "# Train the model\n",
    "model.fit(X_train, Y_train, epochs=10)\n",
    "\n",
    "# Print the model summary\n",
    "model.summary()\n"
   ]
  },
  {
   "cell_type": "code",
   "execution_count": 121,
   "id": "970ff950-e6f2-4272-9515-06f8aeb47a74",
   "metadata": {},
   "outputs": [
    {
     "name": "stdout",
     "output_type": "stream",
     "text": [
      "Collecting tensorNote: you may need to restart the kernel to use updated packages.\n",
      "\n",
      "  Downloading tensor-0.3.6.tar.gz (50 kB)\n",
      "  Preparing metadata (setup.py): started\n",
      "  Preparing metadata (setup.py): finished with status 'done'\n",
      "Requirement already satisfied: Twisted in c:\\users\\rahul\\anaconda\\lib\\site-packages (from tensor) (23.10.0)\n",
      "Requirement already satisfied: PyYaml in c:\\users\\rahul\\anaconda\\lib\\site-packages (from tensor) (6.0.1)\n",
      "Requirement already satisfied: protobuf in c:\\users\\rahul\\anaconda\\lib\\site-packages (from tensor) (4.25.3)\n",
      "Collecting construct (from tensor)\n",
      "  Downloading construct-2.10.70-py3-none-any.whl.metadata (4.2 kB)\n",
      "Collecting pysnmp (from tensor)\n",
      "  Downloading pysnmp-7.1.16-py3-none-any.whl.metadata (4.3 kB)\n",
      "Requirement already satisfied: pyasn1!=0.5.0,>=0.4.8 in c:\\users\\rahul\\anaconda\\lib\\site-packages (from pysnmp->tensor) (0.4.8)\n",
      "Requirement already satisfied: attrs>=21.3.0 in c:\\users\\rahul\\anaconda\\lib\\site-packages (from Twisted->tensor) (23.1.0)\n",
      "Requirement already satisfied: automat>=0.8.0 in c:\\users\\rahul\\anaconda\\lib\\site-packages (from Twisted->tensor) (20.2.0)\n",
      "Requirement already satisfied: constantly>=15.1 in c:\\users\\rahul\\anaconda\\lib\\site-packages (from Twisted->tensor) (23.10.4)\n",
      "Requirement already satisfied: hyperlink>=17.1.1 in c:\\users\\rahul\\anaconda\\lib\\site-packages (from Twisted->tensor) (21.0.0)\n",
      "Requirement already satisfied: incremental>=22.10.0 in c:\\users\\rahul\\anaconda\\lib\\site-packages (from Twisted->tensor) (22.10.0)\n",
      "Requirement already satisfied: twisted-iocpsupport<2,>=1.0.2 in c:\\users\\rahul\\anaconda\\lib\\site-packages (from Twisted->tensor) (1.0.2)\n",
      "Requirement already satisfied: typing-extensions>=4.2.0 in c:\\users\\rahul\\anaconda\\lib\\site-packages (from Twisted->tensor) (4.11.0)\n",
      "Requirement already satisfied: zope-interface>=5 in c:\\users\\rahul\\anaconda\\lib\\site-packages (from Twisted->tensor) (5.4.0)\n",
      "Requirement already satisfied: six in c:\\users\\rahul\\anaconda\\lib\\site-packages (from automat>=0.8.0->Twisted->tensor) (1.16.0)\n",
      "Requirement already satisfied: idna>=2.5 in c:\\users\\rahul\\anaconda\\lib\\site-packages (from hyperlink>=17.1.1->Twisted->tensor) (3.7)\n",
      "Requirement already satisfied: setuptools in c:\\users\\rahul\\anaconda\\lib\\site-packages (from zope-interface>=5->Twisted->tensor) (75.1.0)\n",
      "Downloading construct-2.10.70-py3-none-any.whl (63 kB)\n",
      "Downloading pysnmp-7.1.16-py3-none-any.whl (340 kB)\n",
      "Building wheels for collected packages: tensor\n",
      "  Building wheel for tensor (setup.py): started\n",
      "  Building wheel for tensor (setup.py): finished with status 'done'\n",
      "  Created wheel for tensor: filename=tensor-0.3.6-py3-none-any.whl size=71559 sha256=e4a267f96a474019c332360cf47932b45ce5d28f21215569bee464f17a92a46d\n",
      "  Stored in directory: c:\\users\\rahul\\appdata\\local\\pip\\cache\\wheels\\e4\\bf\\a5\\4555f996fe09316f1bd2112d902c4d219d7dda5f8632cd2bc3\n",
      "Successfully built tensor\n",
      "Installing collected packages: pysnmp, construct, tensor\n",
      "Successfully installed construct-2.10.70 pysnmp-7.1.16 tensor-0.3.6\n"
     ]
    }
   ],
   "source": [
    "pip install tensor\n"
   ]
  },
  {
   "cell_type": "code",
   "execution_count": 131,
   "id": "a2d475a5-1631-4c30-b9d7-17e86688110b",
   "metadata": {},
   "outputs": [
    {
     "name": "stdout",
     "output_type": "stream",
     "text": [
      "2.18.0\n"
     ]
    }
   ],
   "source": [
    "import tensorflow as tf\n",
    "print(tf.__version__)"
   ]
  },
  {
   "cell_type": "code",
   "execution_count": null,
   "id": "0f71ce87-bf78-4a1a-a7c1-ee10f286d81a",
   "metadata": {},
   "outputs": [],
   "source": []
  }
 ],
 "metadata": {
  "kernelspec": {
   "display_name": "Python [conda env:base] *",
   "language": "python",
   "name": "conda-base-py"
  },
  "language_info": {
   "codemirror_mode": {
    "name": "ipython",
    "version": 3
   },
   "file_extension": ".py",
   "mimetype": "text/x-python",
   "name": "python",
   "nbconvert_exporter": "python",
   "pygments_lexer": "ipython3",
   "version": "3.12.7"
  }
 },
 "nbformat": 4,
 "nbformat_minor": 5
}
