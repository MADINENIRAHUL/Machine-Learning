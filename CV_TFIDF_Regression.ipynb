{
 "cells": [
  {
   "cell_type": "code",
   "execution_count": 1,
   "id": "b523317d-0692-41d2-bf58-73881b442a77",
   "metadata": {},
   "outputs": [],
   "source": [
    "import pandas as pd \n",
    "import numpy as np \n",
    "import os \n",
    "import re \n",
    "import random"
   ]
  },
  {
   "cell_type": "code",
   "execution_count": 2,
   "id": "0f1bc244-2187-4f6a-86a0-63fd40af5903",
   "metadata": {},
   "outputs": [],
   "source": [
    "df = pd.read_csv(\"C:/Users/rahul/OneDrive/Desktop/Internship/aws_review_sofware_dataset.csv\",low_memory=False)"
   ]
  },
  {
   "cell_type": "code",
   "execution_count": 3,
   "id": "101fcf78-c9de-4bed-b911-15098f820d28",
   "metadata": {},
   "outputs": [
    {
     "data": {
      "text/plain": [
       "Index(['Unnamed: 0', 'overall', 'verified', 'reviewTime', 'reviewerID', 'asin',\n",
       "       'style', 'reviewerName', 'reviewText', 'summary', 'unixReviewTime',\n",
       "       'vote', 'image'],\n",
       "      dtype='object')"
      ]
     },
     "execution_count": 3,
     "metadata": {},
     "output_type": "execute_result"
    }
   ],
   "source": [
    "df.columns"
   ]
  },
  {
   "cell_type": "code",
   "execution_count": 4,
   "id": "03946f14-1bbf-48ff-a84f-cb48cda8810d",
   "metadata": {},
   "outputs": [],
   "source": [
    "df[\"words\"] = \"default value\"\n",
    "df[\"sentences\"] = \"default value\"\n",
    "\n",
    "for i in range(df.shape[0]):\n",
    "    df.at[i,\"words\"]=list(\"\")\n",
    "    df.at[i,\"sentences\"] = list(\"\")"
   ]
  },
  {
   "cell_type": "code",
   "execution_count": 5,
   "id": "59f9a4f4-57e7-4e2f-b8db-e554e7070ac2",
   "metadata": {},
   "outputs": [],
   "source": [
    "from nltk.tokenize import sent_tokenize"
   ]
  },
  {
   "cell_type": "code",
   "execution_count": 6,
   "id": "2cb5c930-ed15-4f49-bd75-282e3ec1fdf5",
   "metadata": {},
   "outputs": [],
   "source": [
    "for i in range(499):\n",
    "    l1=sent_tokenize(df.loc[i,\"reviewerName\"])\n",
    "    df.at[i,\"sentences\"]=l1"
   ]
  },
  {
   "cell_type": "code",
   "execution_count": 7,
   "id": "dc29b816-37f3-4178-974a-70ad65fd488f",
   "metadata": {},
   "outputs": [
    {
     "name": "stderr",
     "output_type": "stream",
     "text": [
      "Warming up PyWSD (takes ~10 secs)... took 6.362720966339111 secs.\n"
     ]
    }
   ],
   "source": [
    "from pywsd.utils import lemmatize_sentence"
   ]
  },
  {
   "cell_type": "code",
   "execution_count": 8,
   "id": "ac937a95-5c21-40fc-b22d-88c373b0e41f",
   "metadata": {},
   "outputs": [],
   "source": [
    "#!pip install pywsd\n"
   ]
  },
  {
   "cell_type": "code",
   "execution_count": 9,
   "id": "c13cbbdb-9797-4f14-98c4-4611baedf14d",
   "metadata": {},
   "outputs": [],
   "source": [
    "for k in range(df.shape[0]):\n",
    "    df.at[k,\"words\"]=list(\"\")\n",
    "    for j in range(len(df.loc[k,\"sentences\"])):\n",
    "        df.at[k,\"words\"].extend(lemmatize_sentence(df.loc[k,\"sentences\"][j]))"
   ]
  },
  {
   "cell_type": "code",
   "execution_count": 10,
   "id": "b42ca360-267c-4680-897c-88e7a1e63a07",
   "metadata": {},
   "outputs": [
    {
     "name": "stderr",
     "output_type": "stream",
     "text": [
      "[nltk_data] Downloading package averaged_perceptron_tagger_eng to\n",
      "[nltk_data]     C:\\Users\\rahul\\AppData\\Roaming\\nltk_data...\n",
      "[nltk_data]   Package averaged_perceptron_tagger_eng is already up-to-\n",
      "[nltk_data]       date!\n"
     ]
    },
    {
     "data": {
      "text/plain": [
       "True"
      ]
     },
     "execution_count": 10,
     "metadata": {},
     "output_type": "execute_result"
    }
   ],
   "source": [
    "import nltk\n",
    "nltk.download('averaged_perceptron_tagger_eng')"
   ]
  },
  {
   "cell_type": "code",
   "execution_count": 11,
   "id": "59df7a00-be9c-46a4-9813-2ea5a9654acd",
   "metadata": {},
   "outputs": [],
   "source": [
    "df[\"words_sentences\"] = \"default\""
   ]
  },
  {
   "cell_type": "code",
   "execution_count": 12,
   "id": "5f1f3be7-23dc-41cb-be3b-4b25dd292d34",
   "metadata": {},
   "outputs": [
    {
     "name": "stdout",
     "output_type": "stream",
     "text": [
      "   Unnamed: 0  overall  verified   reviewTime      reviewerID        asin  \\\n",
      "0           0      4.0      True  03 11, 2014  A240ORQ2LF9LUI  0077613252   \n",
      "1           1      4.0      True  02 23, 2014  A1YCCU0YRLS0FE  0077613252   \n",
      "2           2      1.0      True  02 17, 2014  A1BJHRQDYVAY2J  0077613252   \n",
      "3           3      3.0      True  02 17, 2014   APRDVZ6QBIQXT  0077613252   \n",
      "4           4      5.0     False  10 14, 2013  A2JZTTBSLS1QXV  0077775473   \n",
      "\n",
      "                        style         reviewerName  \\\n",
      "0  {'Format:': ' Loose Leaf'}           Michelle W   \n",
      "1  {'Format:': ' Loose Leaf'}  Rosalind White Ames   \n",
      "2  {'Format:': ' Loose Leaf'}       Allan R. Baker   \n",
      "3  {'Format:': ' Loose Leaf'}                 Lucy   \n",
      "4                         NaN            Albert V.   \n",
      "\n",
      "                                          reviewText  \\\n",
      "0  The materials arrived early and were in excell...   \n",
      "1  I am really enjoying this book with the worksh...   \n",
      "2  IF YOU ARE TAKING THIS CLASS DON\"T WASTE YOUR ...   \n",
      "3  This book was missing pages!!! Important pages...   \n",
      "4  I have used LearnSmart and can officially say ...   \n",
      "\n",
      "                         summary  unixReviewTime vote image  \\\n",
      "0                 Material Great      1394496000  NaN   NaN   \n",
      "1                         Health      1393113600  NaN   NaN   \n",
      "2             ARE YOU KIDING ME?      1392595200    7   NaN   \n",
      "3                missing pages!!      1392595200    3   NaN   \n",
      "4  Best study product out there!      1381708800  NaN   NaN   \n",
      "\n",
      "                     words              sentences       words_sentences  \n",
      "0            [michelle, w]           [Michelle W]            michelle w  \n",
      "1  [rosalind, white, ames]  [Rosalind White Ames]   rosalind white ames  \n",
      "2       [allan, r., baker]       [Allan R. Baker]        allan r. baker  \n",
      "3                   [lucy]                 [Lucy]                  lucy  \n",
      "4           [albert, v, .]            [Albert V.]            albert v .  \n"
     ]
    }
   ],
   "source": [
    "import functools\n",
    "import pandas as pd\n",
    "\n",
    "# Assuming df is already defined and contains the necessary data\n",
    "\n",
    "# Function to concatenate words in a list\n",
    "def concatenate_words(words):\n",
    "    if not words:\n",
    "        return \"\"  # Return an empty string if the list is empty\n",
    "    return functools.reduce(lambda a, b: str(a) + \" \" + str(b), words, \"\")\n",
    "\n",
    "# Apply the function to each row\n",
    "for k in range(df.shape[0]):\n",
    "    words = df.loc[k, \"words\"]\n",
    "    df.loc[k, \"words_sentences\"] = concatenate_words(words)\n",
    "\n",
    "# Print the resulting DataFrame to verify\n",
    "print(df.head())\n"
   ]
  },
  {
   "cell_type": "code",
   "execution_count": 13,
   "id": "9becc6a3-1fd2-497d-9c52-399c43520363",
   "metadata": {},
   "outputs": [],
   "source": [
    "\n",
    "from sklearn.feature_extraction.text import TfidfVectorizer"
   ]
  },
  {
   "cell_type": "code",
   "execution_count": 14,
   "id": "c1886a2f-96eb-4f55-9407-3b2b986315dc",
   "metadata": {},
   "outputs": [],
   "source": [
    "tfidf_vectorizer = TfidfVectorizer(stop_words='english')\n",
    "tfidf_matrix = tfidf_vectorizer.fit_transform(df.words_sentences)"
   ]
  },
  {
   "cell_type": "code",
   "execution_count": 15,
   "id": "1d4e543e-3a84-48dd-be61-46c5bf62fbb4",
   "metadata": {},
   "outputs": [],
   "source": [
    "dense = pd.DataFrame(tfidf_matrix.todense(), columns=tfidf_vectorizer.get_feature_names_out())"
   ]
  },
  {
   "cell_type": "code",
   "execution_count": 16,
   "id": "74e2f0e2-0bff-470e-be82-eef649b2b722",
   "metadata": {},
   "outputs": [],
   "source": [
    "df_y=df[\"verified\"]"
   ]
  },
  {
   "cell_type": "code",
   "execution_count": 17,
   "id": "df8e997a-9712-428f-969c-79c8524737cc",
   "metadata": {},
   "outputs": [],
   "source": [
    "\n",
    "from sklearn.preprocessing import LabelEncoder"
   ]
  },
  {
   "cell_type": "code",
   "execution_count": 18,
   "id": "7c49c75d-eeb8-456d-abbe-dd8745940301",
   "metadata": {},
   "outputs": [],
   "source": [
    "le=LabelEncoder()"
   ]
  },
  {
   "cell_type": "code",
   "execution_count": 19,
   "id": "b2e86b64-9ba0-4589-b951-7025ee76fa91",
   "metadata": {},
   "outputs": [],
   "source": [
    "df_y_1=pd.DataFrame(df_y)"
   ]
  },
  {
   "cell_type": "code",
   "execution_count": 20,
   "id": "9e524b2d-50a3-447f-8d7f-a593c914043d",
   "metadata": {},
   "outputs": [],
   "source": [
    "from sklearn.preprocessing import LabelEncoder\n",
    "le = LabelEncoder()\n",
    "df_y_enc = df_y_1.apply(le.fit_transform)"
   ]
  },
  {
   "cell_type": "code",
   "execution_count": 21,
   "id": "c2daa5fc-ae8f-4ced-82be-331bdea1830b",
   "metadata": {},
   "outputs": [
    {
     "data": {
      "text/html": [
       "<div>\n",
       "<style scoped>\n",
       "    .dataframe tbody tr th:only-of-type {\n",
       "        vertical-align: middle;\n",
       "    }\n",
       "\n",
       "    .dataframe tbody tr th {\n",
       "        vertical-align: top;\n",
       "    }\n",
       "\n",
       "    .dataframe thead th {\n",
       "        text-align: right;\n",
       "    }\n",
       "</style>\n",
       "<table border=\"1\" class=\"dataframe\">\n",
       "  <thead>\n",
       "    <tr style=\"text-align: right;\">\n",
       "      <th></th>\n",
       "      <th>verified</th>\n",
       "    </tr>\n",
       "  </thead>\n",
       "  <tbody>\n",
       "    <tr>\n",
       "      <th>0</th>\n",
       "      <td>1</td>\n",
       "    </tr>\n",
       "    <tr>\n",
       "      <th>1</th>\n",
       "      <td>1</td>\n",
       "    </tr>\n",
       "    <tr>\n",
       "      <th>2</th>\n",
       "      <td>1</td>\n",
       "    </tr>\n",
       "    <tr>\n",
       "      <th>3</th>\n",
       "      <td>1</td>\n",
       "    </tr>\n",
       "    <tr>\n",
       "      <th>4</th>\n",
       "      <td>0</td>\n",
       "    </tr>\n",
       "  </tbody>\n",
       "</table>\n",
       "</div>"
      ],
      "text/plain": [
       "   verified\n",
       "0         1\n",
       "1         1\n",
       "2         1\n",
       "3         1\n",
       "4         0"
      ]
     },
     "execution_count": 21,
     "metadata": {},
     "output_type": "execute_result"
    }
   ],
   "source": [
    "df_y_enc.head(5)"
   ]
  },
  {
   "cell_type": "code",
   "execution_count": 22,
   "id": "61713a99-d313-482f-ba5c-66359aad48ee",
   "metadata": {},
   "outputs": [],
   "source": [
    "from sklearn.ensemble import GradientBoostingClassifier"
   ]
  },
  {
   "cell_type": "code",
   "execution_count": 23,
   "id": "e2f5e274-c5b6-4240-b7c6-ec10e6737e5c",
   "metadata": {},
   "outputs": [],
   "source": [
    "GBC=GradientBoostingClassifier(n_estimators=3000)"
   ]
  },
  {
   "cell_type": "code",
   "execution_count": null,
   "id": "411b29a9-39c3-479a-878e-3704841c36c7",
   "metadata": {},
   "outputs": [
    {
     "name": "stderr",
     "output_type": "stream",
     "text": [
      "C:\\Users\\rahul\\anaconda\\Lib\\site-packages\\sklearn\\preprocessing\\_label.py:114: DataConversionWarning: A column-vector y was passed when a 1d array was expected. Please change the shape of y to (n_samples, ), for example using ravel().\n",
      "  y = column_or_1d(y, warn=True)\n"
     ]
    }
   ],
   "source": [
    "gb_c=GBC.fit(dense,df_y_enc)"
   ]
  },
  {
   "cell_type": "code",
   "execution_count": null,
   "id": "fedbab3b-1973-4d64-a359-cc001727166d",
   "metadata": {},
   "outputs": [],
   "source": [
    "GBC.score(dense,df_y_enc)"
   ]
  },
  {
   "cell_type": "code",
   "execution_count": null,
   "id": "08c84244-17ae-4999-a780-46fd5af83558",
   "metadata": {},
   "outputs": [],
   "source": []
  },
  {
   "cell_type": "code",
   "execution_count": null,
   "id": "264d5f0d-487b-495b-9467-e28cd9e4dbc1",
   "metadata": {},
   "outputs": [],
   "source": []
  }
 ],
 "metadata": {
  "kernelspec": {
   "display_name": "Python [conda env:base] *",
   "language": "python",
   "name": "conda-base-py"
  },
  "language_info": {
   "codemirror_mode": {
    "name": "ipython",
    "version": 3
   },
   "file_extension": ".py",
   "mimetype": "text/x-python",
   "name": "python",
   "nbconvert_exporter": "python",
   "pygments_lexer": "ipython3",
   "version": "3.12.7"
  }
 },
 "nbformat": 4,
 "nbformat_minor": 5
}
